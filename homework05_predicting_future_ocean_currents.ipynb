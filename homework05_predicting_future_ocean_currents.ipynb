{
  "nbformat": 4,
  "nbformat_minor": 0,
  "metadata": {
    "colab": {
      "provenance": [],
      "include_colab_link": true
    },
    "kernelspec": {
      "name": "python3",
      "display_name": "Python 3"
    },
    "language_info": {
      "name": "python"
    }
  },
  "cells": [
    {
      "cell_type": "markdown",
      "metadata": {
        "id": "view-in-github",
        "colab_type": "text"
      },
      "source": [
        "<a href=\"https://colab.research.google.com/github/marianatorres4/Teaching_tutorials/blob/main/homework05_predicting_future_ocean_currents.ipynb\" target=\"_parent\"><img src=\"https://colab.research.google.com/assets/colab-badge.svg\" alt=\"Open In Colab\"/></a>"
      ]
    },
    {
      "cell_type": "markdown",
      "source": [
        "# EARTHSS 130 – Physical Oceanography\n",
        "## Homework 05 – Limits to predictability: chaos, turbulence, and the closure problem\n",
        "\n",
        "We have derived the rotating-frame Boussinesq equations (seven equations for seven variables) that govern the Eulerian evolution of ocean currents over time at a given location. The zonal momentum, for example, can be written in the form:\n",
        "\\begin{equation}\n",
        "\\frac{\\partial u}{\\partial t} = - \\,\\mathbf{u} \\cdot \\nabla u + fv - \\frac{1}{\\rho_{0}}\\frac{\\partial p}{\\partial x} + \\nu \\nabla^{2} u.\n",
        "\\end{equation}\n",
        "We have seen that **dimensional analysis** can tell us which terms are most important for a given problem, in some cases becoming **Ordinary Differential Equations (ODEs)** that we can solve directly (e.g. by guessing and verifying solutions on the Midterm equation sheet). We have also seen that we can even solve seemingly complicated **Partial Differential Equations** by **linearizing** (i.e. defining variables that are small fluctuations away from some average state) the equations and guessing linear wave solutions.\n",
        "\n",
        "But what if we are in a parameter regime where dimensional analysis tells us that the non-linear terms (like $\\mathbf{u}\\cdot \\nabla u$, which involves a product of the velocity vector and derivatives of the zonal velocity) are important and that fluctuations are relatively large, so that it is not appropriate to linearize the equations?\n",
        "\n",
        "These nonlinearities bring us into the realm of turbulence. This Homework is a first exploration of the topic using a set of equations much, much simpler than the full Boussinesq governing equations.\n",
        "\n",
        "### Introduction to *time-stepping*\n",
        "\n",
        "The first-order Taylor series expansion in time $t$, with respect to a specific initial condition $t=t_{0}$, of the multivariable funtion $u(x,y,z,t)$ is given by:\n",
        "\\begin{equation}\n",
        "  u(x,y,z,t) \\approx u(x,y,z,t_{0}) + \\frac{\\partial u}{\\partial t}\\Big|_{x,y,z,t_{0}} (t-t_{0})\n",
        "\\end{equation}\n",
        "If we then plug in the full zonal momentum equation, we can write the future velocity (at time $t$) in terms of spatial gradients of the present velocity (at time $t_{0}$),\n",
        "\\begin{equation}\n",
        "  u(x,y,z,t) \\approx u(x,y,z,t_{0}) + (t-t_{0}) \\left[ - \\,\\mathbf{u} \\cdot \\nabla u + fv - \\frac{1}{\\rho_{0}}\\frac{\\partial p}{\\partial x} + \\nu \\nabla^{2} u \\right]_{x,y,z,t_{0}}.\n",
        "\\end{equation}\n",
        "\n",
        "If we make thee *timestep* $\\Delta t = t-t_{0}$ small enough, the approximation can become very accurate:\n",
        "\\begin{equation}\n",
        "  u(x,y,z,t_{0}+\\Delta t) = u(x,y,z,t_{0}) + \\Delta t \\left[ - \\,\\mathbf{u} \\cdot \\nabla u + fv - \\frac{1}{\\rho_{0}}\\frac{\\partial p}{\\partial x} + \\nu \\nabla^{2} u \\right]_{x,y,z,t_{0}}.\n",
        "\\end{equation}\n",
        "\n",
        "If you evaluate this expression for $u(x,y,z,t_{0}+\\Delta t)$ for all locations $(x,y,z)$ in the system, and do a similar thing to compute the updated $v(x,y,z,t_{0}+\\Delta t)$ and $p(x,y,z,t_{0}+\\Delta t)$, then you can plug those in to\n",
        "\\begin{equation}\n",
        "  u(x,y,z,t_{0}+2\\Delta t) = u(x,y,z,t_{0}+\\Delta t) + \\Delta t \\left[ - \\,\\mathbf{u} \\cdot \\nabla u + fv - \\frac{1}{\\rho_{0}}\\frac{\\partial p}{\\partial x} + \\nu \\nabla^{2} u \\right]_{x,y,z,t_{0}+\\Delta t},\n",
        "\\end{equation}\n",
        "to predict the next timestep (at $t=t_{0}+2\\Delta t$) and so on for any future time $t=t_{0}+n\\Delta t$ as we take $n \\rightarrow + \\infty$.\n",
        "\n",
        "Oceanographic simulations, weather forecasts, and climate projections all use computer programs to solve some form of this equation (and similar ones for other variables like temperature, density, and pressure) and thereby predict future currents and/or winds.\n"
      ],
      "metadata": {
        "id": "_9scJxbExqj8"
      }
    },
    {
      "cell_type": "markdown",
      "source": [
        "### A toy version of a computational ocean model\n",
        "\n",
        "As an extremely crude simplification, use dimensional analysis to replace spatial derivatives $\\frac{\\partial}{\\partial x} \\rightarrow \\frac{1}{L}$, where $L$ is a constant length scale, and second derivatives with $\\frac{\\partial^{2}}{\\partial x^{2}} \\rightarrow -\\frac{1}{L^{2}}$ (negative because we have have seen that diffusion acts to decrease extrema and smooth things out over time). We also assume a constant pressure gradient force ($\\frac{\\partial p}{\\partial x} = \\frac{\\Delta p}{L}$) and ignore the Coriolis force.\n",
        "\n",
        "Under these (severe) approximations, the local evolution of zonal velocity $u(x,y,z,t_{0}+\\Delta t) \\rightarrow u(t_{0}+\\Delta t)$ is given by:\n",
        "\n",
        "\\begin{equation}\n",
        "u(t_{0}+\\Delta t) = u(t_{0}) + \\Delta t \\left[ -u(t_{0}) \\frac{u(t_{0})}{L} - \\frac{\\nu}{L^{2}} u(t_{0}) - \\frac{\\Delta p}{\\rho_{0} L} \\right]\n",
        "\\end{equation}\n",
        "or\n",
        "\n",
        "---\n",
        "\n",
        "\\begin{equation}\n",
        "u(t_{0}+\\Delta t) = - \\left( \\frac{\\Delta t}{L} \\right) [u(t_{0})]^{2} + \\left( 1 - \\frac{\\Delta t \\; \\nu}{L^{2}} \\right) u(t_{0}) - \\left(\\frac{\\Delta p \\, \\Delta t}{\\rho_{0} L} \\right),\n",
        "\\end{equation}\n",
        "\n",
        "---\n",
        "\n",
        "in which everything is a known constant. Your task is to write simple computer programs that use this equation to predict the future.\n"
      ],
      "metadata": {
        "id": "ko8E75_cSN_-"
      }
    },
    {
      "cell_type": "markdown",
      "source": [
        "# Setting up our algorithm\n",
        "This code cell sets up some of the core functions and libraries that we will use.\n",
        "\n",
        "**You do not need to change anything in the following code cell!**"
      ],
      "metadata": {
        "id": "_aDaN3DtUnvm"
      }
    },
    {
      "cell_type": "code",
      "source": [
        "# The following commands load in Python \"packages\" (i.e. libraries of code)\n",
        "# that allow us to do things like visualize our data in graphs\n",
        "import numpy as np\n",
        "import matplotlib.pyplot as plt\n",
        "\n",
        "\n",
        "def ocean_current_predictor(timestepper, u0, n):\n",
        "\n",
        "  assert (u0>-1) & (u0<1), \"u0 must be in the interval (-1, 1), excluding the endpoints\"\n",
        "\n",
        "  u = u0 # current value to u to the provided initial condition\n",
        "  u_array = np.zeros(n+1) # we create an array of all zeros; will overwrite later\n",
        "  for t in range(0,n+1): # start at t=1 because we already saved the initial condition at t=0\n",
        "    u_array[t] = u # save our current value before timestepping\n",
        "    u = timestepper(u)\n",
        "\n",
        "  return u_array\n",
        "\n",
        "def labelled_plot(u_array):\n",
        "  l = plt.plot(u_array, \"o\", markersize=3)\n",
        "  plt.plot(u_array, \"-\", color=l[0].get_color(), alpha=0.5)\n",
        "  plt.xlabel(r\"$n$\")\n",
        "  plt.ylabel(r\"$u$\")\n",
        "  plt.xlim(0, len(u_array))\n",
        "  if np.all(np.abs(u_array) <= 1):\n",
        "    plt.ylim(-1, 1)\n",
        "\n",
        "def labelled_histogram(u_array):\n",
        "  du = 0.01\n",
        "  plt.hist(u_array, bins=np.arange(-1, 1+du, du), alpha=0.5)\n",
        "  plt.xlim(-1, 1)\n",
        "  plt.xlabel(r\"$u$\")\n",
        "  plt.ylabel(r\"number of times $u$ falls within each bin\")\n",
        "  plt.title(\"Histogram (or probability distribution) of $u$\")"
      ],
      "metadata": {
        "id": "zmTVBFySUl6Z"
      },
      "execution_count": null,
      "outputs": []
    },
    {
      "cell_type": "markdown",
      "source": [
        "#### Example: Understanding the `ocean_current_predictor` function\n",
        "\n",
        "Let us consider the simple case in which we ignore the effects of non-linear momentum advection and fraction, so that our equation is simply:\n",
        "\\begin{equation}\n",
        "u(t_{0}+\\Delta t) = u(t_{0}) - \\left(\\frac{\\Delta p \\, \\Delta t}{\\rho_{0} L} \\right),\n",
        "\\end{equation}\n",
        "and further suppose the constant in parentheses is simply $\\frac{\\Delta p \\, \\Delta t}{\\rho_{0} L} = -1$, so that\n",
        "\\begin{equation}\n",
        "u(t_{0}+\\Delta t) = u(t_{0} + \\Delta t) + 1,\n",
        "\\end{equation}\n",
        "which we write more concisely as the series defined by:\n",
        "\\begin{equation}\n",
        "u_{n+1} = u_{n} + 1\n",
        "\\end{equation}\n",
        "\n",
        "The following code demonstrates how we can define a `timestepper` function that takes a given $u_{n}$ as an input and *returns* $u_{n+1}$ as an output."
      ],
      "metadata": {
        "id": "McYlrbp1V4uf"
      }
    },
    {
      "cell_type": "code",
      "source": [
        "u0 = 0. # We assign the value `0` to our initial condition variable u(t0)=`u0`\n",
        "\n",
        "def timestepper_add1(u): # we define the function `timestepper_add1, that depends on the input argument in parentheses\n",
        "  u_next = u+1 # adds `1` to the argument `u` and assigns the result to a new variable `u_next`\n",
        "  return u_next # returns the prediction for the next timestep, `u_next`\n",
        "\n",
        "timestepper_add1(u0) # evaluates the function `timestepper_add1` for the input value u0 (defined above)"
      ],
      "metadata": {
        "colab": {
          "base_uri": "https://localhost:8080/"
        },
        "id": "cLzQAMvDWCZs",
        "outputId": "3d3d3e23-4b73-4138-e460-4b0af2a016db"
      },
      "execution_count": null,
      "outputs": [
        {
          "output_type": "execute_result",
          "data": {
            "text/plain": [
              "1.0"
            ]
          },
          "metadata": {},
          "execution_count": 290
        }
      ]
    },
    {
      "cell_type": "markdown",
      "source": [
        "By applying this function iteratively, we can compute $u_{n}$ for any $n$, here up to n=3!"
      ],
      "metadata": {
        "id": "UbX6nlqIZMal"
      }
    },
    {
      "cell_type": "code",
      "source": [
        "u1 = timestepper_add1(u0)\n",
        "u2 = timestepper_add1(u1)\n",
        "u3 = timestepper_add1(u2)\n",
        "print(u0, u1, u2, u3)"
      ],
      "metadata": {
        "colab": {
          "base_uri": "https://localhost:8080/"
        },
        "id": "fyA9VyJlWaDQ",
        "outputId": "48a4bb71-0745-49dc-dc24-d51a0d9622f5"
      },
      "execution_count": null,
      "outputs": [
        {
          "output_type": "stream",
          "name": "stdout",
          "text": [
            "0.0 1.0 2.0 3.0\n"
          ]
        }
      ]
    },
    {
      "cell_type": "markdown",
      "source": [
        "Doing this manually is not practical for large $n$, so instead I provide the `ocean_current_predictor` function which takes the following inputs: 1) a `timestepper` function, 2) the initial condition `u0`, and 3) the number of timesteps $n$."
      ],
      "metadata": {
        "id": "X14L9uUvZU_e"
      }
    },
    {
      "cell_type": "code",
      "source": [
        "un = ocean_current_predictor(timestepper_add1, u0, n=3)"
      ],
      "metadata": {
        "id": "--EKo6ibZJ80"
      },
      "execution_count": null,
      "outputs": []
    },
    {
      "cell_type": "markdown",
      "source": [
        "The function `labelled_plot` makes a nice graph of the timeseries:"
      ],
      "metadata": {
        "id": "4fk32tW_Z_43"
      }
    },
    {
      "cell_type": "code",
      "source": [
        "labelled_plot(un)"
      ],
      "metadata": {
        "colab": {
          "base_uri": "https://localhost:8080/",
          "height": 449
        },
        "id": "CeFZ_EM1Z_Qw",
        "outputId": "84b8a0c2-e8eb-49c5-c876-38076b685864"
      },
      "execution_count": null,
      "outputs": [
        {
          "output_type": "display_data",
          "data": {
            "text/plain": [
              "<Figure size 640x480 with 1 Axes>"
            ],
            "image/png": "[encoded data removed]"
          },
          "metadata": {}
        }
      ]
    },
    {
      "cell_type": "markdown",
      "source": [
        "## Problem 1: Predicting the future with a *linear* toy model\n",
        "\n",
        "Consider another simple case in which we again ignore the non-linear term, but now include the frictional effect and consider the simple case in which $\\frac{\\Delta t \\, \\nu}{L^{2}} = 1.5$, which gives the simple series equation:\n",
        "\n",
        "---\n",
        "\n",
        "\\begin{equation}\n",
        "u_{n+1} = - \\,0.5 \\, u_{n} + 1,\n",
        "\\end{equation}\n",
        "\n",
        "---\n",
        "\n",
        "**a)** Write code for the function `timestepper_linear` that corresponds to the difference equation above and run it through `ocean_current_predictor` with a few choices of initial conditions `u0` within the interval `(-1,1)` and numbers of timesteps `n` to convince yourself that it is working properly.\n",
        "\n",
        "Hint: mutliplication in Python is with the `*` symbol, i.e. `-2*5` gives `-10`."
      ],
      "metadata": {
        "id": "U8AM8zFHxdXo"
      }
    },
    {
      "cell_type": "code",
      "source": [
        "def timestepper_linear(un):\n",
        "  # Write your function here, following the `timestepper_add1` example above\n",
        "  return"
      ],
      "metadata": {
        "id": "hIrRQQ7kkhov"
      },
      "execution_count": null,
      "outputs": []
    },
    {
      "cell_type": "code",
      "source": [
        "# Test your function by writing code here"
      ],
      "metadata": {
        "id": "g1Ynp6dwH03W"
      },
      "execution_count": null,
      "outputs": []
    },
    {
      "cell_type": "markdown",
      "source": [
        "**b)** Run the `ocean_current_predictor` for $n = 50$ timesteps and several different choices of initial conditions. Use the `labelled_plot` function to visualize your results."
      ],
      "metadata": {
        "id": "qSJQbQMN5UKL"
      }
    },
    {
      "cell_type": "code",
      "source": [
        "# Write your code here"
      ],
      "metadata": {
        "id": "CMnqO40ZHr8o"
      },
      "execution_count": null,
      "outputs": []
    },
    {
      "cell_type": "markdown",
      "source": [
        "**Describe** your results in this \"text\" cell of the notebook by double clicking on the cell and typing between the two horizontal lines:\n",
        "\n",
        "---\n",
        "\n",
        "Delete this and write your answer here.\n",
        "\n",
        "---"
      ],
      "metadata": {
        "id": "w_n6vwEDHspX"
      }
    },
    {
      "cell_type": "markdown",
      "source": [
        "**c)** You should find in part (b) that your solutions trend towards a single steady state in which each future value of the zonal velocity $u_{n+1}$ is the same as the previous one $u_{n}$, i.e.\n",
        "\\begin{equation}\n",
        "u_{n+1} = u_{n}.\n",
        "\\end{equation}\n",
        "Plug the earlier definition for the series $u_{n+1}$ as a function of $u_{n}$ into here and rearrange the resulting equation to solve for the equilbrium solution $u_{n}$. How does this compare to your computational results for large $n$?\n",
        "\n",
        "---\n",
        "\n",
        "Write your solution here, using *LaTeX* notation to modify the following equation (you can double-click through my various equations to see how LaTeX is formatted or google a tutorial):\n",
        "\\begin{equation}\n",
        "  u_{n} = ?\n",
        "\\end{equation}\n",
        "\n",
        "---"
      ],
      "metadata": {
        "id": "kXEGT8W4-6my"
      }
    },
    {
      "cell_type": "markdown",
      "source": [
        "## Problem 2: Predicting the future with a *nonlinear* toy model\n",
        "\n",
        "Let us now consider a case in which we include the *nonlinear* advection term. For simplicity, we assume that $\\frac{\\Delta t}{L} = 2$, that $\\frac{\\Delta t \\, \\nu}{L^{2}} = 1$ (such that the coefficient for the linear term proportional to $u(t_{0})$ vanishes), and again that $\\frac{\\Delta p \\Delta t}{\\rho_{0}L} = -1$. We are left with the resulting *nonlinear* difference equation:\n",
        "\n",
        "---\n",
        "\n",
        "\\begin{equation}\n",
        "u_{n+1} = -2(u_{n})^{2} + 1\n",
        "\\end{equation}\n",
        "\n",
        "---\n",
        "\n",
        "**a)** Write code for the function `timestepper_nonlinear` that corresponds to the difference equation above.\n",
        "\n",
        "*Hint:* exponentiation in Python is with the `**` operator, i.e. `2**3` is equal to `2*2*2` is equal to `8`."
      ],
      "metadata": {
        "id": "le4zpvr56fmX"
      }
    },
    {
      "cell_type": "code",
      "source": [
        "def timestepper_nonlinear(un):\n",
        "  # Write your function here, following the `timestepper_add1` example above\n",
        "  return"
      ],
      "metadata": {
        "id": "1l6TKiIM-DSN"
      },
      "execution_count": null,
      "outputs": []
    },
    {
      "cell_type": "markdown",
      "source": [
        "**b)** Pick several random values of `u0` in the interval `(-1,1)` and run in through the `ocean_current_predictor` for `n=100`. **Describe your results.** Does the solution settle into a some predictable steady state (like the linear model), exhibit some kind of regular repeating pattern, or exhibit some other kind of behavior?"
      ],
      "metadata": {
        "id": "MYdc92CM-lsO"
      }
    },
    {
      "cell_type": "code",
      "source": [
        "# Write your code here."
      ],
      "metadata": {
        "id": "el-1N17XzSJu"
      },
      "execution_count": null,
      "outputs": []
    },
    {
      "cell_type": "markdown",
      "source": [
        "---\n",
        "\n",
        "Write your text answer here.\n",
        "\n",
        "---"
      ],
      "metadata": {
        "id": "MIOMwJFIHUkt"
      }
    },
    {
      "cell_type": "markdown",
      "source": [
        "**c)** Pick any value for the initial condition `u0` (except for `u0=0`, `u0=0.5`, or `u0=-0.5`, which are special cases) and run a simulation for $n=100$. Repeat the simulation with a slightly different initial condition `u0+0.001` and again with an initial condition that is only off by one trillionth, `u0+1e-12`. Plot all three simulations one the same plot.\n",
        "\n",
        "When you restart a nonlinear simulation from essentially the same initial condition, **how** similar is the evolution of $u_{n}$?\n",
        "\n",
        "Given that we inevitably have some errors in measuring the present state of the climate, **explain** the implications of this result for making weather forecasts or climate projections starting from an *imperfectly known* initial condition."
      ],
      "metadata": {
        "id": "Naj9-ACb_lFB"
      }
    },
    {
      "cell_type": "code",
      "source": [
        "# Write your code here"
      ],
      "metadata": {
        "id": "yQxPrHGBHKg8"
      },
      "execution_count": null,
      "outputs": []
    },
    {
      "cell_type": "markdown",
      "source": [
        "---\n",
        "Write your text answer here.\n",
        "\n",
        "---"
      ],
      "metadata": {
        "id": "gqvuEnGKHMPY"
      }
    },
    {
      "cell_type": "markdown",
      "source": [
        "**d)** Use the `labelled_histogram` plotting function demonstrated below to compare the *statistics* the simulation with initial condition `u0` and the one with the infinitesimally different initial condition `u0+1e-12`. **How** do they compare?\n",
        "\n",
        "Repeat these two simulations but now for many more timesteps, `n=1e6`. Compare value of the millionth timestep, $u_{1e6}$ (you can sample the last element of the sequence or array with `un[-1]`) and compare their histograms. Discuss the implications for predicting a specific weather event vs. multidecadal changes in Earth's climate."
      ],
      "metadata": {
        "id": "2ewTOR0rFnBu"
      }
    },
    {
      "cell_type": "code",
      "source": [
        "## Modify the code in this cell\n",
        "\n",
        "un = np.array([0.2,0.5])\n",
        "\n",
        "print(un[-1])\n",
        "\n",
        "labelled_histogram(un)"
      ],
      "metadata": {
        "colab": {
          "base_uri": "https://localhost:8080/",
          "height": 492
        },
        "id": "KJhcTJvnF3ea",
        "outputId": "4be52138-91be-492e-a2ab-136c9fc0ea0a"
      },
      "execution_count": null,
      "outputs": [
        {
          "output_type": "stream",
          "name": "stdout",
          "text": [
            "0.5\n"
          ]
        },
        {
          "output_type": "display_data",
          "data": {
            "text/plain": [
              "<Figure size 640x480 with 1 Axes>"
            ],
            "image/png": "[encoded data removed]"
          },
          "metadata": {}
        }
      ]
    },
    {
      "cell_type": "markdown",
      "source": [
        "---\n",
        "\n",
        "Write your interpretation here.\n",
        "\n",
        "---"
      ],
      "metadata": {
        "id": "0sqsL7SlIFEa"
      }
    }
  ]
}